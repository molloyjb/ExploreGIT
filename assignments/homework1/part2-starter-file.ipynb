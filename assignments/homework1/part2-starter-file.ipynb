{
  "nbformat": 4,
  "nbformat_minor": 0,
  "metadata": {
    "colab": {
      "provenance": [],
      "include_colab_link": true
    },
    "kernelspec": {
      "name": "python3",
      "display_name": "Python 3"
    },
    "language_info": {
      "name": "python"
    }
  },
  "cells": [
    {
      "cell_type": "markdown",
      "metadata": {
        "id": "view-in-github",
        "colab_type": "text"
      },
      "source": [
        "<a href=\"https://colab.research.google.com/github/molloyjb/ExploreGIT/blob/main/assignments/homework1/part2-starter-file.ipynb\" target=\"_parent\"><img src=\"https://colab.research.google.com/assets/colab-badge.svg\" alt=\"Open In Colab\"/></a>"
      ]
    },
    {
      "cell_type": "markdown",
      "source": [
        "# Homework 1, Part 2 Starter File\n",
        "This file is not required, but can be used if you are having trouble installing necessary packages locally."
      ],
      "metadata": {
        "id": "VmSr2ZZi-2jD"
      }
    },
    {
      "cell_type": "markdown",
      "source": [
        "First, we will clone the repository from remote-sensing-hydro-2025, so we can use the necessary files. This might take a while."
      ],
      "metadata": {
        "id": "m5Me1j3L_-2I"
      }
    },
    {
      "cell_type": "code",
      "execution_count": 1,
      "metadata": {
        "id": "uZTIrm7I-0To",
        "colab": {
          "base_uri": "https://localhost:8080/"
        },
        "outputId": "cbf1a5b5-85c5-4931-fa9e-1ab495dfbd68"
      },
      "outputs": [
        {
          "output_type": "stream",
          "name": "stdout",
          "text": [
            "Cloning into 'remote-sensing-hydro-2025'...\n",
            "remote: Enumerating objects: 612, done.\u001b[K\n",
            "remote: Counting objects: 100% (26/26), done.\u001b[K\n",
            "remote: Compressing objects: 100% (20/20), done.\u001b[K\n",
            "remote: Total 612 (delta 19), reused 6 (delta 6), pack-reused 586 (from 1)\u001b[K\n",
            "Receiving objects: 100% (612/612), 103.26 MiB | 10.29 MiB/s, done.\n",
            "Resolving deltas: 100% (292/292), done.\n",
            "Updating files: 100% (645/645), done.\n"
          ]
        }
      ],
      "source": [
        "!git clone https://github.com/rg-smith/remote-sensing-hydro-2025.git"
      ]
    },
    {
      "cell_type": "markdown",
      "source": [
        "Now we will install the necessary packages. We will install one at a time"
      ],
      "metadata": {
        "id": "wVMntEDa_8tT"
      }
    },
    {
      "cell_type": "code",
      "source": [
        "!pip install rasterio"
      ],
      "metadata": {
        "id": "351Ymd6ZN-mh",
        "colab": {
          "base_uri": "https://localhost:8080/"
        },
        "outputId": "0321a0d7-8519-4721-fdc1-59823a56cb86"
      },
      "execution_count": 2,
      "outputs": [
        {
          "output_type": "stream",
          "name": "stdout",
          "text": [
            "Collecting rasterio\n",
            "  Downloading rasterio-1.4.3-cp311-cp311-manylinux_2_17_x86_64.manylinux2014_x86_64.whl.metadata (9.1 kB)\n",
            "Collecting affine (from rasterio)\n",
            "  Downloading affine-2.4.0-py3-none-any.whl.metadata (4.0 kB)\n",
            "Requirement already satisfied: attrs in /usr/local/lib/python3.11/dist-packages (from rasterio) (25.1.0)\n",
            "Requirement already satisfied: certifi in /usr/local/lib/python3.11/dist-packages (from rasterio) (2024.12.14)\n",
            "Requirement already satisfied: click>=4.0 in /usr/local/lib/python3.11/dist-packages (from rasterio) (8.1.8)\n",
            "Collecting cligj>=0.5 (from rasterio)\n",
            "  Downloading cligj-0.7.2-py3-none-any.whl.metadata (5.0 kB)\n",
            "Requirement already satisfied: numpy>=1.24 in /usr/local/lib/python3.11/dist-packages (from rasterio) (1.26.4)\n",
            "Collecting click-plugins (from rasterio)\n",
            "  Downloading click_plugins-1.1.1-py2.py3-none-any.whl.metadata (6.4 kB)\n",
            "Requirement already satisfied: pyparsing in /usr/local/lib/python3.11/dist-packages (from rasterio) (3.2.1)\n",
            "Downloading rasterio-1.4.3-cp311-cp311-manylinux_2_17_x86_64.manylinux2014_x86_64.whl (22.2 MB)\n",
            "\u001b[2K   \u001b[90m━━━━━━━━━━━━━━━━━━━━━━━━━━━━━━━━━━━━━━━━\u001b[0m \u001b[32m22.2/22.2 MB\u001b[0m \u001b[31m66.6 MB/s\u001b[0m eta \u001b[36m0:00:00\u001b[0m\n",
            "\u001b[?25hDownloading cligj-0.7.2-py3-none-any.whl (7.1 kB)\n",
            "Downloading affine-2.4.0-py3-none-any.whl (15 kB)\n",
            "Downloading click_plugins-1.1.1-py2.py3-none-any.whl (7.5 kB)\n",
            "Installing collected packages: cligj, click-plugins, affine, rasterio\n",
            "Successfully installed affine-2.4.0 click-plugins-1.1.1 cligj-0.7.2 rasterio-1.4.3\n"
          ]
        }
      ]
    },
    {
      "cell_type": "code",
      "source": [
        "!pip install rasterstats"
      ],
      "metadata": {
        "id": "nmeSx4vqQ2MD",
        "colab": {
          "base_uri": "https://localhost:8080/"
        },
        "outputId": "1fc85df6-be9c-4ed6-b29b-5a1cf2db5b45"
      },
      "execution_count": 3,
      "outputs": [
        {
          "output_type": "stream",
          "name": "stdout",
          "text": [
            "Collecting rasterstats\n",
            "  Downloading rasterstats-0.20.0-py3-none-any.whl.metadata (4.2 kB)\n",
            "Requirement already satisfied: affine in /usr/local/lib/python3.11/dist-packages (from rasterstats) (2.4.0)\n",
            "Requirement already satisfied: click>7.1 in /usr/local/lib/python3.11/dist-packages (from rasterstats) (8.1.8)\n",
            "Requirement already satisfied: cligj>=0.4 in /usr/local/lib/python3.11/dist-packages (from rasterstats) (0.7.2)\n",
            "Collecting fiona (from rasterstats)\n",
            "  Downloading fiona-1.10.1-cp311-cp311-manylinux_2_17_x86_64.manylinux2014_x86_64.whl.metadata (56 kB)\n",
            "\u001b[2K     \u001b[90m━━━━━━━━━━━━━━━━━━━━━━━━━━━━━━━━━━━━━━━━\u001b[0m \u001b[32m56.6/56.6 kB\u001b[0m \u001b[31m3.3 MB/s\u001b[0m eta \u001b[36m0:00:00\u001b[0m\n",
            "\u001b[?25hRequirement already satisfied: numpy>=1.9 in /usr/local/lib/python3.11/dist-packages (from rasterstats) (1.26.4)\n",
            "Requirement already satisfied: rasterio>=1.0 in /usr/local/lib/python3.11/dist-packages (from rasterstats) (1.4.3)\n",
            "Collecting simplejson (from rasterstats)\n",
            "  Downloading simplejson-3.19.3-cp311-cp311-manylinux_2_5_x86_64.manylinux1_x86_64.manylinux_2_17_x86_64.manylinux2014_x86_64.whl.metadata (3.2 kB)\n",
            "Requirement already satisfied: shapely in /usr/local/lib/python3.11/dist-packages (from rasterstats) (2.0.6)\n",
            "Requirement already satisfied: attrs in /usr/local/lib/python3.11/dist-packages (from rasterio>=1.0->rasterstats) (25.1.0)\n",
            "Requirement already satisfied: certifi in /usr/local/lib/python3.11/dist-packages (from rasterio>=1.0->rasterstats) (2024.12.14)\n",
            "Requirement already satisfied: click-plugins in /usr/local/lib/python3.11/dist-packages (from rasterio>=1.0->rasterstats) (1.1.1)\n",
            "Requirement already satisfied: pyparsing in /usr/local/lib/python3.11/dist-packages (from rasterio>=1.0->rasterstats) (3.2.1)\n",
            "Downloading rasterstats-0.20.0-py3-none-any.whl (17 kB)\n",
            "Downloading fiona-1.10.1-cp311-cp311-manylinux_2_17_x86_64.manylinux2014_x86_64.whl (17.3 MB)\n",
            "\u001b[2K   \u001b[90m━━━━━━━━━━━━━━━━━━━━━━━━━━━━━━━━━━━━━━━━\u001b[0m \u001b[32m17.3/17.3 MB\u001b[0m \u001b[31m72.9 MB/s\u001b[0m eta \u001b[36m0:00:00\u001b[0m\n",
            "\u001b[?25hDownloading simplejson-3.19.3-cp311-cp311-manylinux_2_5_x86_64.manylinux1_x86_64.manylinux_2_17_x86_64.manylinux2014_x86_64.whl (144 kB)\n",
            "\u001b[2K   \u001b[90m━━━━━━━━━━━━━━━━━━━━━━━━━━━━━━━━━━━━━━━━\u001b[0m \u001b[32m144.7/144.7 kB\u001b[0m \u001b[31m12.2 MB/s\u001b[0m eta \u001b[36m0:00:00\u001b[0m\n",
            "\u001b[?25hInstalling collected packages: simplejson, fiona, rasterstats\n",
            "Successfully installed fiona-1.10.1 rasterstats-0.20.0 simplejson-3.19.3\n"
          ]
        }
      ]
    },
    {
      "cell_type": "code",
      "source": [
        "import matplotlib.pyplot as plt\n",
        "import geopandas as gpd\n",
        "import rasterio\n",
        "from rasterio.plot import show\n",
        "from rasterstats import zonal_stats\n",
        "import numpy as np\n",
        "import pandas as pd"
      ],
      "metadata": {
        "id": "s0_CxfNJ_5Pl"
      },
      "execution_count": 4,
      "outputs": []
    },
    {
      "cell_type": "code",
      "source": [
        "gdf = gpd.read_file(\"/content/remote-sensing-hydro-2025/data/watersheds/huc2-regional/huc2_reg_11.shp\")\n",
        "gdf = gdf.to_crs('OGC:CRS83')\n",
        "shp = gdf\n",
        "print(gdf.head())"
      ],
      "metadata": {
        "id": "cfzJXOmGcvxH",
        "colab": {
          "base_uri": "https://localhost:8080/"
        },
        "outputId": "119457ee-3830-4167-dc2a-fbbd3ab57348"
      },
      "execution_count": 12,
      "outputs": [
        {
          "output_type": "stream",
          "name": "stdout",
          "text": [
            "  REG      SUM_AREA                                           geometry\n",
            "0  11  6.421397e+11  POLYGON ((-106.35383 39.35471, -106.3522 39.35...\n"
          ]
        }
      ]
    },
    {
      "cell_type": "code",
      "source": [
        "prism_years = np.arange(1950, 2024)\n",
        "print(prism_years)"
      ],
      "metadata": {
        "colab": {
          "base_uri": "https://localhost:8080/"
        },
        "id": "g9dokq363Jy7",
        "outputId": "e9ffb971-b9f9-4003-d4bc-9dd180a67dc4"
      },
      "execution_count": 18,
      "outputs": [
        {
          "output_type": "stream",
          "name": "stdout",
          "text": [
            "[1950 1951 1952 1953 1954 1955 1956 1957 1958 1959 1960 1961 1962 1963\n",
            " 1964 1965 1966 1967 1968 1969 1970 1971 1972 1973 1974 1975 1976 1977\n",
            " 1978 1979 1980 1981 1982 1983 1984 1985 1986 1987 1988 1989 1990 1991\n",
            " 1992 1993 1994 1995 1996 1997 1998 1999 2000 2001 2002 2003 2004 2005\n",
            " 2006 2007 2008 2009 2010 2011 2012 2013 2014 2015 2016 2017 2018 2019\n",
            " 2020 2021 2022 2023]\n"
          ]
        }
      ]
    },
    {
      "cell_type": "code",
      "source": [
        "precip_1yr = zonal_stats(shp,\"/content/remote-sensing-hydro-2025/data/prism/PRISM_tmean_stable_4kmM3_1950_bil.bil\")\n",
        "precip_1yr_df = pd.DataFrame(precip_1yr)\n",
        "precip_1yr_df.head()"
      ],
      "metadata": {
        "colab": {
          "base_uri": "https://localhost:8080/",
          "height": 81
        },
        "id": "rmq7vw4R3owc",
        "outputId": "16eba34e-8462-4e44-b95c-68fb953a004a"
      },
      "execution_count": 16,
      "outputs": [
        {
          "output_type": "execute_result",
          "data": {
            "text/plain": [
              "     min        max       mean  count\n",
              "0 -2.279  19.741001  14.079997  37029"
            ],
            "text/html": [
              "\n",
              "  <div id=\"df-d533dd81-1099-4187-93e4-70c65fbfd058\" class=\"colab-df-container\">\n",
              "    <div>\n",
              "<style scoped>\n",
              "    .dataframe tbody tr th:only-of-type {\n",
              "        vertical-align: middle;\n",
              "    }\n",
              "\n",
              "    .dataframe tbody tr th {\n",
              "        vertical-align: top;\n",
              "    }\n",
              "\n",
              "    .dataframe thead th {\n",
              "        text-align: right;\n",
              "    }\n",
              "</style>\n",
              "<table border=\"1\" class=\"dataframe\">\n",
              "  <thead>\n",
              "    <tr style=\"text-align: right;\">\n",
              "      <th></th>\n",
              "      <th>min</th>\n",
              "      <th>max</th>\n",
              "      <th>mean</th>\n",
              "      <th>count</th>\n",
              "    </tr>\n",
              "  </thead>\n",
              "  <tbody>\n",
              "    <tr>\n",
              "      <th>0</th>\n",
              "      <td>-2.279</td>\n",
              "      <td>19.741001</td>\n",
              "      <td>14.079997</td>\n",
              "      <td>37029</td>\n",
              "    </tr>\n",
              "  </tbody>\n",
              "</table>\n",
              "</div>\n",
              "    <div class=\"colab-df-buttons\">\n",
              "\n",
              "  <div class=\"colab-df-container\">\n",
              "    <button class=\"colab-df-convert\" onclick=\"convertToInteractive('df-d533dd81-1099-4187-93e4-70c65fbfd058')\"\n",
              "            title=\"Convert this dataframe to an interactive table.\"\n",
              "            style=\"display:none;\">\n",
              "\n",
              "  <svg xmlns=\"http://www.w3.org/2000/svg\" height=\"24px\" viewBox=\"0 -960 960 960\">\n",
              "    <path d=\"M120-120v-720h720v720H120Zm60-500h600v-160H180v160Zm220 220h160v-160H400v160Zm0 220h160v-160H400v160ZM180-400h160v-160H180v160Zm440 0h160v-160H620v160ZM180-180h160v-160H180v160Zm440 0h160v-160H620v160Z\"/>\n",
              "  </svg>\n",
              "    </button>\n",
              "\n",
              "  <style>\n",
              "    .colab-df-container {\n",
              "      display:flex;\n",
              "      gap: 12px;\n",
              "    }\n",
              "\n",
              "    .colab-df-convert {\n",
              "      background-color: #E8F0FE;\n",
              "      border: none;\n",
              "      border-radius: 50%;\n",
              "      cursor: pointer;\n",
              "      display: none;\n",
              "      fill: #1967D2;\n",
              "      height: 32px;\n",
              "      padding: 0 0 0 0;\n",
              "      width: 32px;\n",
              "    }\n",
              "\n",
              "    .colab-df-convert:hover {\n",
              "      background-color: #E2EBFA;\n",
              "      box-shadow: 0px 1px 2px rgba(60, 64, 67, 0.3), 0px 1px 3px 1px rgba(60, 64, 67, 0.15);\n",
              "      fill: #174EA6;\n",
              "    }\n",
              "\n",
              "    .colab-df-buttons div {\n",
              "      margin-bottom: 4px;\n",
              "    }\n",
              "\n",
              "    [theme=dark] .colab-df-convert {\n",
              "      background-color: #3B4455;\n",
              "      fill: #D2E3FC;\n",
              "    }\n",
              "\n",
              "    [theme=dark] .colab-df-convert:hover {\n",
              "      background-color: #434B5C;\n",
              "      box-shadow: 0px 1px 3px 1px rgba(0, 0, 0, 0.15);\n",
              "      filter: drop-shadow(0px 1px 2px rgba(0, 0, 0, 0.3));\n",
              "      fill: #FFFFFF;\n",
              "    }\n",
              "  </style>\n",
              "\n",
              "    <script>\n",
              "      const buttonEl =\n",
              "        document.querySelector('#df-d533dd81-1099-4187-93e4-70c65fbfd058 button.colab-df-convert');\n",
              "      buttonEl.style.display =\n",
              "        google.colab.kernel.accessAllowed ? 'block' : 'none';\n",
              "\n",
              "      async function convertToInteractive(key) {\n",
              "        const element = document.querySelector('#df-d533dd81-1099-4187-93e4-70c65fbfd058');\n",
              "        const dataTable =\n",
              "          await google.colab.kernel.invokeFunction('convertToInteractive',\n",
              "                                                    [key], {});\n",
              "        if (!dataTable) return;\n",
              "\n",
              "        const docLinkHtml = 'Like what you see? Visit the ' +\n",
              "          '<a target=\"_blank\" href=https://colab.research.google.com/notebooks/data_table.ipynb>data table notebook</a>'\n",
              "          + ' to learn more about interactive tables.';\n",
              "        element.innerHTML = '';\n",
              "        dataTable['output_type'] = 'display_data';\n",
              "        await google.colab.output.renderOutput(dataTable, element);\n",
              "        const docLink = document.createElement('div');\n",
              "        docLink.innerHTML = docLinkHtml;\n",
              "        element.appendChild(docLink);\n",
              "      }\n",
              "    </script>\n",
              "  </div>\n",
              "\n",
              "\n",
              "    </div>\n",
              "  </div>\n"
            ],
            "application/vnd.google.colaboratory.intrinsic+json": {
              "type": "dataframe",
              "variable_name": "precip_1yr_df",
              "summary": "{\n  \"name\": \"precip_1yr_df\",\n  \"rows\": 1,\n  \"fields\": [\n    {\n      \"column\": \"min\",\n      \"properties\": {\n        \"dtype\": \"number\",\n        \"std\": null,\n        \"min\": -2.2790000438690186,\n        \"max\": -2.2790000438690186,\n        \"num_unique_values\": 1,\n        \"samples\": [\n          -2.2790000438690186\n        ],\n        \"semantic_type\": \"\",\n        \"description\": \"\"\n      }\n    },\n    {\n      \"column\": \"max\",\n      \"properties\": {\n        \"dtype\": \"number\",\n        \"std\": null,\n        \"min\": 19.74100112915039,\n        \"max\": 19.74100112915039,\n        \"num_unique_values\": 1,\n        \"samples\": [\n          19.74100112915039\n        ],\n        \"semantic_type\": \"\",\n        \"description\": \"\"\n      }\n    },\n    {\n      \"column\": \"mean\",\n      \"properties\": {\n        \"dtype\": \"number\",\n        \"std\": null,\n        \"min\": 14.079997265656647,\n        \"max\": 14.079997265656647,\n        \"num_unique_values\": 1,\n        \"samples\": [\n          14.079997265656647\n        ],\n        \"semantic_type\": \"\",\n        \"description\": \"\"\n      }\n    },\n    {\n      \"column\": \"count\",\n      \"properties\": {\n        \"dtype\": \"number\",\n        \"std\": null,\n        \"min\": 37029,\n        \"max\": 37029,\n        \"num_unique_values\": 1,\n        \"samples\": [\n          37029\n        ],\n        \"semantic_type\": \"\",\n        \"description\": \"\"\n      }\n    }\n  ]\n}"
            }
          },
          "metadata": {},
          "execution_count": 16
        }
      ]
    },
    {
      "cell_type": "code",
      "source": [
        "raster_directory = \"/content/remote-sensing-hydro-2025/data/prism\"\n",
        "\n",
        "def compute_zonal_stats(prism_year, shapefile, raster_dir):\n",
        "    # Construct the path to the PRISM raster for the given year\n",
        "    raster_path = f\"{raster_dir}/PRISM_tmean_stable_4kmM3_{prism_year}_bil.bil\"\n",
        "\n",
        "    # Use rasterstats to compute zonal statistics\n",
        "    stats = zonal_stats(shapefile, raster_path, stats=\"mean\")  # You can modify the stats parameter as needed\n",
        "    return stats\n",
        "\n",
        "# Initialize an empty dictionary to store stats for each year\n",
        "prism_stats_all = {}\n",
        "\n",
        "# Iterate through each year and compute the zonal statistics\n",
        "for prism_year in prism_years:\n",
        "    print(f\"Processing data for year {prism_year}...\")\n",
        "\n",
        "    # Compute zonal stats for the given year\n",
        "    annual_stats = compute_zonal_stats(prism_year, gdf, raster_directory)\n",
        "\n",
        "    for stat in annual_stats:\n",
        "        stat['year'] = prism_year\n",
        "\n",
        "    # Print the zonal statistics for the year\n",
        "    #print(f\"Zonal statistics for {prism_year}: {annual_stats}\")\n",
        "\n",
        "    #all_annual_stats = annual_stats.extend(annual_stats)\n",
        "\n",
        "    # Store the results in the dictionary\n",
        "    prism_stats_all[prism_year] = annual_stats\n",
        "\n",
        "    # Convert the stats to a DataFrame and store them in the dictionary\n",
        "    prism_stats_df = pd.DataFrame(prism_stats_all)\n",
        "\n",
        "    # Store the results in the dictionary\n",
        "    #prism_stats_all[prism_year] = prism_stats_df\n",
        "\n",
        "    # Print the zonal statistics for the year\n",
        "    #print(f\"Zonal statistics for {prism_year}: {annual_stats}\")\n",
        "\n",
        "# If you'd like to inspect the results\n",
        "# For example, check the stats for the first year\n",
        "prism_stats_df.head()"
      ],
      "metadata": {
        "colab": {
          "base_uri": "https://localhost:8080/",
          "height": 1000
        },
        "id": "iAAUolmvAa4M",
        "outputId": "b3dd3f37-9837-4632-f261-42aab3514c62"
      },
      "execution_count": 69,
      "outputs": [
        {
          "output_type": "stream",
          "name": "stdout",
          "text": [
            "Processing data for year 1950...\n",
            "Processing data for year 1951...\n",
            "Processing data for year 1952...\n",
            "Processing data for year 1953...\n",
            "Processing data for year 1954...\n",
            "Processing data for year 1955...\n",
            "Processing data for year 1956...\n",
            "Processing data for year 1957...\n",
            "Processing data for year 1958...\n",
            "Processing data for year 1959...\n",
            "Processing data for year 1960...\n",
            "Processing data for year 1961...\n",
            "Processing data for year 1962...\n",
            "Processing data for year 1963...\n",
            "Processing data for year 1964...\n",
            "Processing data for year 1965...\n",
            "Processing data for year 1966...\n",
            "Processing data for year 1967...\n",
            "Processing data for year 1968...\n",
            "Processing data for year 1969...\n",
            "Processing data for year 1970...\n",
            "Processing data for year 1971...\n",
            "Processing data for year 1972...\n",
            "Processing data for year 1973...\n",
            "Processing data for year 1974...\n",
            "Processing data for year 1975...\n",
            "Processing data for year 1976...\n",
            "Processing data for year 1977...\n",
            "Processing data for year 1978...\n",
            "Processing data for year 1979...\n",
            "Processing data for year 1980...\n",
            "Processing data for year 1981...\n",
            "Processing data for year 1982...\n",
            "Processing data for year 1983...\n",
            "Processing data for year 1984...\n",
            "Processing data for year 1985...\n",
            "Processing data for year 1986...\n",
            "Processing data for year 1987...\n",
            "Processing data for year 1988...\n",
            "Processing data for year 1989...\n",
            "Processing data for year 1990...\n",
            "Processing data for year 1991...\n",
            "Processing data for year 1992...\n",
            "Processing data for year 1993...\n",
            "Processing data for year 1994...\n",
            "Processing data for year 1995...\n",
            "Processing data for year 1996...\n",
            "Processing data for year 1997...\n",
            "Processing data for year 1998...\n",
            "Processing data for year 1999...\n",
            "Processing data for year 2000...\n",
            "Processing data for year 2001...\n",
            "Processing data for year 2002...\n",
            "Processing data for year 2003...\n",
            "Processing data for year 2004...\n",
            "Processing data for year 2005...\n",
            "Processing data for year 2006...\n",
            "Processing data for year 2007...\n",
            "Processing data for year 2008...\n",
            "Processing data for year 2009...\n",
            "Processing data for year 2010...\n",
            "Processing data for year 2011...\n",
            "Processing data for year 2012...\n",
            "Processing data for year 2013...\n",
            "Processing data for year 2014...\n",
            "Processing data for year 2015...\n",
            "Processing data for year 2016...\n",
            "Processing data for year 2017...\n",
            "Processing data for year 2018...\n",
            "Processing data for year 2019...\n",
            "Processing data for year 2020...\n",
            "Processing data for year 2021...\n",
            "Processing data for year 2022...\n",
            "Processing data for year 2023...\n"
          ]
        },
        {
          "output_type": "execute_result",
          "data": {
            "text/plain": [
              "                                         1950  \\\n",
              "0  {'mean': 14.079997265656647, 'year': 1950}   \n",
              "\n",
              "                                         1951  \\\n",
              "0  {'mean': 13.855844405736045, 'year': 1951}   \n",
              "\n",
              "                                         1952  \\\n",
              "0  {'mean': 14.682193348456615, 'year': 1952}   \n",
              "\n",
              "                                         1953  \\\n",
              "0  {'mean': 15.207332428637015, 'year': 1953}   \n",
              "\n",
              "                                        1954  \\\n",
              "0  {'mean': 15.86130127737719, 'year': 1954}   \n",
              "\n",
              "                                         1955  \\\n",
              "0  {'mean': 14.539539955170271, 'year': 1955}   \n",
              "\n",
              "                                         1956  \\\n",
              "0  {'mean': 15.154682816171109, 'year': 1956}   \n",
              "\n",
              "                                         1957  \\\n",
              "0  {'mean': 14.108694367927841, 'year': 1957}   \n",
              "\n",
              "                                         1958  \\\n",
              "0  {'mean': 13.838032353020605, 'year': 1958}   \n",
              "\n",
              "                                         1959  ...  \\\n",
              "0  {'mean': 13.941947527613491, 'year': 1959}  ...   \n",
              "\n",
              "                                         2014  \\\n",
              "0  {'mean': 13.471397418239759, 'year': 2014}   \n",
              "\n",
              "                                         2015  \\\n",
              "0  {'mean': 14.539462313321991, 'year': 2015}   \n",
              "\n",
              "                                         2016  \\\n",
              "0  {'mean': 15.115063531286289, 'year': 2016}   \n",
              "\n",
              "                                         2017  \\\n",
              "0  {'mean': 14.946896351508277, 'year': 2017}   \n",
              "\n",
              "                                         2018  \\\n",
              "0  {'mean': 14.216132963353047, 'year': 2018}   \n",
              "\n",
              "                                         2019  \\\n",
              "0  {'mean': 13.849581577952415, 'year': 2019}   \n",
              "\n",
              "                                        2020  \\\n",
              "0  {'mean': 14.40310634907775, 'year': 2020}   \n",
              "\n",
              "                                         2021  \\\n",
              "0  {'mean': 14.406915863242324, 'year': 2021}   \n",
              "\n",
              "                                         2022  \\\n",
              "0  {'mean': 14.228403751113992, 'year': 2022}   \n",
              "\n",
              "                                         2023  \n",
              "0  {'mean': 14.815431823705744, 'year': 2023}  \n",
              "\n",
              "[1 rows x 74 columns]"
            ],
            "text/html": [
              "\n",
              "  <div id=\"df-42f4e0a2-eb50-40ae-9b94-21abc692b10d\" class=\"colab-df-container\">\n",
              "    <div>\n",
              "<style scoped>\n",
              "    .dataframe tbody tr th:only-of-type {\n",
              "        vertical-align: middle;\n",
              "    }\n",
              "\n",
              "    .dataframe tbody tr th {\n",
              "        vertical-align: top;\n",
              "    }\n",
              "\n",
              "    .dataframe thead th {\n",
              "        text-align: right;\n",
              "    }\n",
              "</style>\n",
              "<table border=\"1\" class=\"dataframe\">\n",
              "  <thead>\n",
              "    <tr style=\"text-align: right;\">\n",
              "      <th></th>\n",
              "      <th>1950</th>\n",
              "      <th>1951</th>\n",
              "      <th>1952</th>\n",
              "      <th>1953</th>\n",
              "      <th>1954</th>\n",
              "      <th>1955</th>\n",
              "      <th>1956</th>\n",
              "      <th>1957</th>\n",
              "      <th>1958</th>\n",
              "      <th>1959</th>\n",
              "      <th>...</th>\n",
              "      <th>2014</th>\n",
              "      <th>2015</th>\n",
              "      <th>2016</th>\n",
              "      <th>2017</th>\n",
              "      <th>2018</th>\n",
              "      <th>2019</th>\n",
              "      <th>2020</th>\n",
              "      <th>2021</th>\n",
              "      <th>2022</th>\n",
              "      <th>2023</th>\n",
              "    </tr>\n",
              "  </thead>\n",
              "  <tbody>\n",
              "    <tr>\n",
              "      <th>0</th>\n",
              "      <td>{'mean': 14.079997265656647, 'year': 1950}</td>\n",
              "      <td>{'mean': 13.855844405736045, 'year': 1951}</td>\n",
              "      <td>{'mean': 14.682193348456615, 'year': 1952}</td>\n",
              "      <td>{'mean': 15.207332428637015, 'year': 1953}</td>\n",
              "      <td>{'mean': 15.86130127737719, 'year': 1954}</td>\n",
              "      <td>{'mean': 14.539539955170271, 'year': 1955}</td>\n",
              "      <td>{'mean': 15.154682816171109, 'year': 1956}</td>\n",
              "      <td>{'mean': 14.108694367927841, 'year': 1957}</td>\n",
              "      <td>{'mean': 13.838032353020605, 'year': 1958}</td>\n",
              "      <td>{'mean': 13.941947527613491, 'year': 1959}</td>\n",
              "      <td>...</td>\n",
              "      <td>{'mean': 13.471397418239759, 'year': 2014}</td>\n",
              "      <td>{'mean': 14.539462313321991, 'year': 2015}</td>\n",
              "      <td>{'mean': 15.115063531286289, 'year': 2016}</td>\n",
              "      <td>{'mean': 14.946896351508277, 'year': 2017}</td>\n",
              "      <td>{'mean': 14.216132963353047, 'year': 2018}</td>\n",
              "      <td>{'mean': 13.849581577952415, 'year': 2019}</td>\n",
              "      <td>{'mean': 14.40310634907775, 'year': 2020}</td>\n",
              "      <td>{'mean': 14.406915863242324, 'year': 2021}</td>\n",
              "      <td>{'mean': 14.228403751113992, 'year': 2022}</td>\n",
              "      <td>{'mean': 14.815431823705744, 'year': 2023}</td>\n",
              "    </tr>\n",
              "  </tbody>\n",
              "</table>\n",
              "<p>1 rows × 74 columns</p>\n",
              "</div>\n",
              "    <div class=\"colab-df-buttons\">\n",
              "\n",
              "  <div class=\"colab-df-container\">\n",
              "    <button class=\"colab-df-convert\" onclick=\"convertToInteractive('df-42f4e0a2-eb50-40ae-9b94-21abc692b10d')\"\n",
              "            title=\"Convert this dataframe to an interactive table.\"\n",
              "            style=\"display:none;\">\n",
              "\n",
              "  <svg xmlns=\"http://www.w3.org/2000/svg\" height=\"24px\" viewBox=\"0 -960 960 960\">\n",
              "    <path d=\"M120-120v-720h720v720H120Zm60-500h600v-160H180v160Zm220 220h160v-160H400v160Zm0 220h160v-160H400v160ZM180-400h160v-160H180v160Zm440 0h160v-160H620v160ZM180-180h160v-160H180v160Zm440 0h160v-160H620v160Z\"/>\n",
              "  </svg>\n",
              "    </button>\n",
              "\n",
              "  <style>\n",
              "    .colab-df-container {\n",
              "      display:flex;\n",
              "      gap: 12px;\n",
              "    }\n",
              "\n",
              "    .colab-df-convert {\n",
              "      background-color: #E8F0FE;\n",
              "      border: none;\n",
              "      border-radius: 50%;\n",
              "      cursor: pointer;\n",
              "      display: none;\n",
              "      fill: #1967D2;\n",
              "      height: 32px;\n",
              "      padding: 0 0 0 0;\n",
              "      width: 32px;\n",
              "    }\n",
              "\n",
              "    .colab-df-convert:hover {\n",
              "      background-color: #E2EBFA;\n",
              "      box-shadow: 0px 1px 2px rgba(60, 64, 67, 0.3), 0px 1px 3px 1px rgba(60, 64, 67, 0.15);\n",
              "      fill: #174EA6;\n",
              "    }\n",
              "\n",
              "    .colab-df-buttons div {\n",
              "      margin-bottom: 4px;\n",
              "    }\n",
              "\n",
              "    [theme=dark] .colab-df-convert {\n",
              "      background-color: #3B4455;\n",
              "      fill: #D2E3FC;\n",
              "    }\n",
              "\n",
              "    [theme=dark] .colab-df-convert:hover {\n",
              "      background-color: #434B5C;\n",
              "      box-shadow: 0px 1px 3px 1px rgba(0, 0, 0, 0.15);\n",
              "      filter: drop-shadow(0px 1px 2px rgba(0, 0, 0, 0.3));\n",
              "      fill: #FFFFFF;\n",
              "    }\n",
              "  </style>\n",
              "\n",
              "    <script>\n",
              "      const buttonEl =\n",
              "        document.querySelector('#df-42f4e0a2-eb50-40ae-9b94-21abc692b10d button.colab-df-convert');\n",
              "      buttonEl.style.display =\n",
              "        google.colab.kernel.accessAllowed ? 'block' : 'none';\n",
              "\n",
              "      async function convertToInteractive(key) {\n",
              "        const element = document.querySelector('#df-42f4e0a2-eb50-40ae-9b94-21abc692b10d');\n",
              "        const dataTable =\n",
              "          await google.colab.kernel.invokeFunction('convertToInteractive',\n",
              "                                                    [key], {});\n",
              "        if (!dataTable) return;\n",
              "\n",
              "        const docLinkHtml = 'Like what you see? Visit the ' +\n",
              "          '<a target=\"_blank\" href=https://colab.research.google.com/notebooks/data_table.ipynb>data table notebook</a>'\n",
              "          + ' to learn more about interactive tables.';\n",
              "        element.innerHTML = '';\n",
              "        dataTable['output_type'] = 'display_data';\n",
              "        await google.colab.output.renderOutput(dataTable, element);\n",
              "        const docLink = document.createElement('div');\n",
              "        docLink.innerHTML = docLinkHtml;\n",
              "        element.appendChild(docLink);\n",
              "      }\n",
              "    </script>\n",
              "  </div>\n",
              "\n",
              "\n",
              "    </div>\n",
              "  </div>\n"
            ],
            "application/vnd.google.colaboratory.intrinsic+json": {
              "type": "dataframe",
              "variable_name": "prism_stats_df"
            }
          },
          "metadata": {},
          "execution_count": 69
        }
      ]
    }
  ]
}