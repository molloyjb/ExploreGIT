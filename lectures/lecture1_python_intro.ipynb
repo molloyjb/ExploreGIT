{
  "cells": [
    {
      "cell_type": "markdown",
      "metadata": {
        "id": "view-in-github",
        "colab_type": "text"
      },
      "source": [
        "<a href=\"https://colab.research.google.com/github/molloyjb/ExploreGIT/blob/main/lectures/lecture1_python_intro.ipynb\" target=\"_parent\"><img src=\"https://colab.research.google.com/assets/colab-badge.svg\" alt=\"Open In Colab\"/></a>"
      ]
    },
    {
      "cell_type": "code",
      "source": [
        "!git clone https://github.com/rg-smith/remote-sensing-hydro-2025.git"
      ],
      "metadata": {
        "id": "dLD2ZWXSAvRC",
        "outputId": "5d72b440-cb65-48f1-b114-25fd481df300",
        "colab": {
          "base_uri": "https://localhost:8080/"
        }
      },
      "id": "dLD2ZWXSAvRC",
      "execution_count": 6,
      "outputs": [
        {
          "output_type": "stream",
          "name": "stdout",
          "text": [
            "fatal: destination path 'remote-sensing-hydro-2025' already exists and is not an empty directory.\n"
          ]
        }
      ]
    },
    {
      "cell_type": "markdown",
      "id": "28750536-9484-4335-ab95-2d2aaf7de4a0",
      "metadata": {
        "id": "28750536-9484-4335-ab95-2d2aaf7de4a0"
      },
      "source": [
        "defining variables"
      ]
    },
    {
      "cell_type": "code",
      "execution_count": 5,
      "id": "80e50657-803b-4c9e-ac16-fb5dc69c371a",
      "metadata": {
        "id": "80e50657-803b-4c9e-ac16-fb5dc69c371a",
        "outputId": "72cf27c0-63fc-4c3c-fa95-fd87466a16a8",
        "colab": {
          "base_uri": "https://localhost:8080/"
        }
      },
      "outputs": [
        {
          "output_type": "stream",
          "name": "stdout",
          "text": [
            "4\n"
          ]
        }
      ],
      "source": [
        "x=4\n",
        "print(x)\n"
      ]
    },
    {
      "cell_type": "markdown",
      "id": "dbcece4a-0e34-49c5-8378-4e52faa9387c",
      "metadata": {
        "id": "dbcece4a-0e34-49c5-8378-4e52faa9387c"
      },
      "source": [
        "loading libraries"
      ]
    },
    {
      "cell_type": "code",
      "execution_count": 7,
      "id": "1e2e4dc7-c868-43d3-85ae-e324d601f1fb",
      "metadata": {
        "id": "1e2e4dc7-c868-43d3-85ae-e324d601f1fb"
      },
      "outputs": [],
      "source": [
        "# numpy, matplotlib\n",
        "import numpy as np\n",
        "import matplotlib.pyplot as plt\n"
      ]
    },
    {
      "cell_type": "markdown",
      "id": "537c0a81-f35f-40a4-9fb1-aeea774357eb",
      "metadata": {
        "id": "537c0a81-f35f-40a4-9fb1-aeea774357eb"
      },
      "source": [
        "creating arrays"
      ]
    },
    {
      "cell_type": "code",
      "execution_count": 11,
      "id": "d57a0970-e8c2-4469-bbe2-8c7d621b41ac",
      "metadata": {
        "id": "d57a0970-e8c2-4469-bbe2-8c7d621b41ac",
        "colab": {
          "base_uri": "https://localhost:8080/",
          "height": 621
        },
        "outputId": "ef0c795f-80c5-4d91-e54e-53607ac7a5b4"
      },
      "outputs": [
        {
          "output_type": "stream",
          "name": "stdout",
          "text": [
            "[[0. 0. 0. 0. 0. 0. 0. 0. 0. 0.]\n",
            " [0. 0. 0. 0. 0. 0. 0. 0. 0. 0.]\n",
            " [0. 0. 0. 0. 0. 0. 0. 0. 0. 0.]\n",
            " [0. 0. 0. 0. 0. 0. 0. 0. 0. 0.]\n",
            " [0. 0. 0. 0. 0. 0. 0. 0. 0. 0.]\n",
            " [0. 0. 0. 0. 0. 0. 0. 0. 0. 0.]\n",
            " [0. 0. 0. 0. 0. 0. 0. 0. 0. 0.]\n",
            " [0. 0. 0. 0. 0. 0. 0. 0. 0. 0.]\n",
            " [0. 0. 0. 0. 0. 0. 0. 0. 0. 0.]\n",
            " [0. 0. 0. 0. 0. 0. 0. 0. 0. 0.]]\n"
          ]
        },
        {
          "output_type": "execute_result",
          "data": {
            "text/plain": [
              "[<matplotlib.lines.Line2D at 0x79aad9cdf590>]"
            ]
          },
          "metadata": {},
          "execution_count": 11
        },
        {
          "output_type": "display_data",
          "data": {
            "text/plain": [
              "<Figure size 640x480 with 1 Axes>"
            ],
            "image/png": "[encoded data removed]"
          },
          "metadata": {}
        }
      ],
      "source": [
        "x = np.linspace(0,10,100)\n",
        "y = x*2+3\n",
        "\n",
        "noise = np.random.normal(0,1,100)\n",
        "zeros = np.zeros((10,10))\n",
        "print(zeros)\n",
        "zeros[0,0]=10\n",
        "\n",
        "\n",
        "plt.figure()\n",
        "plt.plot(x,y+noise)\n"
      ]
    },
    {
      "cell_type": "code",
      "execution_count": 14,
      "metadata": {
        "outputId": "47d2055e-d0b6-43e9-f6c7-b90bdf0e199a",
        "colab": {
          "base_uri": "https://localhost:8080/",
          "height": 795
        },
        "id": "swDuY4q58IoS"
      },
      "outputs": [
        {
          "output_type": "stream",
          "name": "stdout",
          "text": [
            "[[ True False False False False False False False False False]\n",
            " [False False False False False False False False False False]\n",
            " [False False False False False False False False False False]\n",
            " [False False False False False False False False False False]\n",
            " [False False False False  True False False False False False]\n",
            " [False False False False False False False False False False]\n",
            " [False False False False False False False False False False]\n",
            " [False False False False False False False False False False]\n",
            " [False False False False False False False False False False]\n",
            " [False False False False False False False False False False]]\n",
            "[[100.   0.   0.   0.   0.   0.   0.   0.   0.   0.]\n",
            " [  0.   0.   0.   0.   0.   0.   0.   0.   0.   0.]\n",
            " [  0.   0.   0.   0.   0.   0.   0.   0.   0.   0.]\n",
            " [  0.   0.   0.   0.   0.   0.   0.   0.   0.   0.]\n",
            " [  0.   0.   0.   0. 100.   0.   0.   0.   0.   0.]\n",
            " [  0.   0.   0.   0.   0.   0.   0.   0.   0.   0.]\n",
            " [  0.   0.   0.   0.   0.   0.   0.   0.   0.   0.]\n",
            " [  0.   0.   0.   0.   0.   0.   0.   0.   0.   0.]\n",
            " [  0.   0.   0.   0.   0.   0.   0.   0.   0.   0.]\n",
            " [  0.   0.   0.   0.   0.   0.   0.   0.   0.   0.]]\n"
          ]
        },
        {
          "output_type": "execute_result",
          "data": {
            "text/plain": [
              "[<matplotlib.lines.Line2D at 0x79aabee45f10>]"
            ]
          },
          "metadata": {},
          "execution_count": 14
        },
        {
          "output_type": "display_data",
          "data": {
            "text/plain": [
              "<Figure size 640x480 with 1 Axes>"
            ],
            "image/png": "[encoded data removed]"
          },
          "metadata": {}
        }
      ],
      "source": [
        "x = np.linspace(0,10,100)\n",
        "y = x*2+3\n",
        "\n",
        "noise = np.random.normal(0,1,100)\n",
        "zeros = np.zeros((10,10))\n",
        "zeros[4,4]=10\n",
        "zeros[0,0]=10\n",
        "#print(zeros)\n",
        "\n",
        "filt = zeros>0\n",
        "print(filt)\n",
        "\n",
        "zeros[filt] = 100\n",
        "print(zeros)\n",
        "\n",
        "plt.figure()\n",
        "plt.plot(x,y+noise)\n"
      ],
      "id": "swDuY4q58IoS"
    },
    {
      "cell_type": "code",
      "source": [
        "#create a meshgrid of size 100 x 100 from 0 to 10\n",
        "x = np.linspace(0,10,100)\n",
        "y = np.linspace(0,10,100)\n",
        "X, Y = np.meshgrid(x, y)\n"
      ],
      "metadata": {
        "id": "C-BJt0VV95yq"
      },
      "id": "C-BJt0VV95yq",
      "execution_count": 16,
      "outputs": []
    },
    {
      "cell_type": "markdown",
      "id": "bbc6445b-3779-4c73-8bfc-bd14c1e2cf8a",
      "metadata": {
        "id": "bbc6445b-3779-4c73-8bfc-bd14c1e2cf8a"
      },
      "source": [
        "plotting data"
      ]
    },
    {
      "cell_type": "code",
      "execution_count": 26,
      "id": "7137f52d-c5a9-42bc-b1a0-d4bfdc8de36e",
      "metadata": {
        "id": "7137f52d-c5a9-42bc-b1a0-d4bfdc8de36e",
        "outputId": "58263eae-ef76-426d-ac80-c6472ea985fc",
        "colab": {
          "base_uri": "https://localhost:8080/",
          "height": 1000
        }
      },
      "outputs": [
        {
          "output_type": "stream",
          "name": "stdout",
          "text": [
            "     date  avg_head_m\n",
            "0    1920         NaN\n",
            "1    1921         NaN\n",
            "2    1922         NaN\n",
            "3    1923         NaN\n",
            "4    1924         NaN\n",
            "..    ...         ...\n",
            "98   2018    31.26760\n",
            "99   2019    33.66028\n",
            "100  2020    20.85868\n",
            "101  2021    17.46016\n",
            "102  2022    13.46286\n",
            "\n",
            "[103 rows x 2 columns]\n"
          ]
        },
        {
          "output_type": "stream",
          "name": "stderr",
          "text": [
            "<ipython-input-26-396b66d1aebc>:5: FutureWarning: ChainedAssignmentError: behaviour will change in pandas 3.0!\n",
            "You are setting values through chained assignment. Currently this works in certain cases, but when using Copy-on-Write (which will become the default behaviour in pandas 3.0) this will never work to update the original DataFrame or Series, because the intermediate object on which we are setting values will behave as a copy.\n",
            "A typical example is when you are setting values in a column of a DataFrame, like:\n",
            "\n",
            "df[\"col\"][row_indexer] = value\n",
            "\n",
            "Use `df.loc[row_indexer, \"col\"] = values` instead, to perform the assignment in a single step and ensure this keeps updating the original `df`.\n",
            "\n",
            "See the caveats in the documentation: https://pandas.pydata.org/pandas-docs/stable/user_guide/indexing.html#returning-a-view-versus-a-copy\n",
            "\n",
            "  head['avg_head_m'][filt] = np.nan\n",
            "<ipython-input-26-396b66d1aebc>:5: SettingWithCopyWarning: \n",
            "A value is trying to be set on a copy of a slice from a DataFrame\n",
            "\n",
            "See the caveats in the documentation: https://pandas.pydata.org/pandas-docs/stable/user_guide/indexing.html#returning-a-view-versus-a-copy\n",
            "  head['avg_head_m'][filt] = np.nan\n",
            "<ipython-input-26-396b66d1aebc>:10: FutureWarning: ChainedAssignmentError: behaviour will change in pandas 3.0!\n",
            "You are setting values through chained assignment. Currently this works in certain cases, but when using Copy-on-Write (which will become the default behaviour in pandas 3.0) this will never work to update the original DataFrame or Series, because the intermediate object on which we are setting values will behave as a copy.\n",
            "A typical example is when you are setting values in a column of a DataFrame, like:\n",
            "\n",
            "df[\"col\"][row_indexer] = value\n",
            "\n",
            "Use `df.loc[row_indexer, \"col\"] = values` instead, to perform the assignment in a single step and ensure this keeps updating the original `df`.\n",
            "\n",
            "See the caveats in the documentation: https://pandas.pydata.org/pandas-docs/stable/user_guide/indexing.html#returning-a-view-versus-a-copy\n",
            "\n",
            "  head['avg_head_m'][filt4] = np.nan\n",
            "<ipython-input-26-396b66d1aebc>:10: SettingWithCopyWarning: \n",
            "A value is trying to be set on a copy of a slice from a DataFrame\n",
            "\n",
            "See the caveats in the documentation: https://pandas.pydata.org/pandas-docs/stable/user_guide/indexing.html#returning-a-view-versus-a-copy\n",
            "  head['avg_head_m'][filt4] = np.nan\n"
          ]
        },
        {
          "output_type": "execute_result",
          "data": {
            "text/plain": [
              "[<matplotlib.lines.Line2D at 0x79aabdecec90>]"
            ]
          },
          "metadata": {},
          "execution_count": 26
        },
        {
          "output_type": "display_data",
          "data": {
            "text/plain": [
              "<Figure size 640x480 with 1 Axes>"
            ],
            "image/png": "[encoded data removed]"
          },
          "metadata": {}
        }
      ],
      "source": [
        "import pandas as pd\n",
        "head = pd.read_csv('remote-sensing-hydro-2025/lectures/lecture1-tulare-head.csv')\n",
        "\n",
        "filt = head['avg_head_m']==100\n",
        "head['avg_head_m'][filt] = np.nan\n",
        "\n",
        "filt2 = head['avg_head_m']>55\n",
        "filt3 = head['avg_head_m']<65\n",
        "filt4 = filt2 & filt3\n",
        "head['avg_head_m'][filt4] = np.nan\n",
        "\n",
        "print(head)\n",
        "\n",
        "plt.figure()\n",
        "plt.plot(head['date'],head['avg_head_m'])"
      ]
    },
    {
      "cell_type": "markdown",
      "id": "2cf160a9-0cf1-4686-afe2-fae488b8221e",
      "metadata": {
        "id": "2cf160a9-0cf1-4686-afe2-fae488b8221e"
      },
      "source": [
        "loading data from .csv"
      ]
    },
    {
      "cell_type": "code",
      "execution_count": 39,
      "id": "753e7614-1f8c-4dbc-bb97-1ccb84c45499",
      "metadata": {
        "id": "753e7614-1f8c-4dbc-bb97-1ccb84c45499"
      },
      "outputs": [],
      "source": [
        "def squareit(x):\n",
        "  val = x**2\n",
        "  return(val)\n",
        "\n",
        "  x = squareit(5)\n",
        "  print(x)\n",
        "\n",
        "  def raisetopower(x,power):\n",
        "    val = x**power\n",
        "    return(val)\n",
        "\n",
        "    x = raisetopower(5,3)\n",
        "    print(x)"
      ]
    },
    {
      "cell_type": "markdown",
      "id": "6d00936a-9526-4325-9945-20c3a9ffaf21",
      "metadata": {
        "id": "6d00936a-9526-4325-9945-20c3a9ffaf21"
      },
      "source": [
        "defining your own function"
      ]
    },
    {
      "cell_type": "code",
      "execution_count": 38,
      "id": "507d6d9f-a550-4657-b7c7-4d70432d6c47",
      "metadata": {
        "id": "507d6d9f-a550-4657-b7c7-4d70432d6c47"
      },
      "outputs": [],
      "source": [
        "def squareit(x):\n",
        "  val = x**2\n",
        "  return(val)\n",
        "\n",
        "  x = squareit(5)\n",
        "  print(x)\n",
        "\n",
        "  def raisetopower(x,power):\n",
        "    val = x**power\n",
        "    return(val)\n",
        "\n",
        "    x = raisetopower(5,3)\n",
        "    print(x)"
      ]
    },
    {
      "cell_type": "markdown",
      "id": "bd051ee0-df12-48fa-ae27-f66958ab0b78",
      "metadata": {
        "id": "bd051ee0-df12-48fa-ae27-f66958ab0b78"
      },
      "source": [
        "loops"
      ]
    },
    {
      "cell_type": "code",
      "execution_count": 41,
      "id": "3f23889d-ae99-4217-8322-d43166c95d64",
      "metadata": {
        "id": "3f23889d-ae99-4217-8322-d43166c95d64",
        "outputId": "392ef888-948f-4677-fded-cfa965759b63",
        "colab": {
          "base_uri": "https://localhost:8080/"
        }
      },
      "outputs": [
        {
          "output_type": "stream",
          "name": "stdout",
          "text": [
            "[0. 0. 0. 0. 0. 0. 0. 0. 0. 0.]\n",
            "[0. 1. 0. 0. 0. 0. 0. 0. 0. 0.]\n",
            "[0. 1. 4. 0. 0. 0. 0. 0. 0. 0.]\n",
            "[0. 1. 4. 9. 0. 0. 0. 0. 0. 0.]\n",
            "[ 0.  1.  4.  9. 16.  0.  0.  0.  0.  0.]\n",
            "[ 0.  1.  4.  9. 16. 25.  0.  0.  0.  0.]\n",
            "[ 0.  1.  4.  9. 16. 25. 36.  0.  0.  0.]\n",
            "[ 0.  1.  4.  9. 16. 25. 36. 49.  0.  0.]\n",
            "[ 0.  1.  4.  9. 16. 25. 36. 49. 64.  0.]\n",
            "[ 0.  1.  4.  9. 16. 25. 36. 49. 64. 81.]\n"
          ]
        }
      ],
      "source": [
        "x = np.zeros(10)\n",
        "\n",
        "for xx in range(10):\n",
        "  x[xx] = xx**2\n",
        "\n",
        "  print(x)\n"
      ]
    }
  ],
  "metadata": {
    "kernelspec": {
      "display_name": "Python 3 (ipykernel)",
      "language": "python",
      "name": "python3"
    },
    "language_info": {
      "codemirror_mode": {
        "name": "ipython",
        "version": 3
      },
      "file_extension": ".py",
      "mimetype": "text/x-python",
      "name": "python",
      "nbconvert_exporter": "python",
      "pygments_lexer": "ipython3",
      "version": "3.12.2"
    },
    "colab": {
      "provenance": [],
      "include_colab_link": true
    }
  },
  "nbformat": 4,
  "nbformat_minor": 5
}